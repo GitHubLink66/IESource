{
 "cells": [
  {
   "cell_type": "code",
   "execution_count": 1,
   "id": "1cd24337-b5ad-4ba8-84d8-25ebdf8ddba3",
   "metadata": {},
   "outputs": [],
   "source": [
    "import pandas as pd\n",
    "import numpy as np\n",
    "df=pd.read_excel(\"Data_For Model 20230107.xlsx\")"
   ]
  },
  {
   "cell_type": "code",
   "execution_count": 2,
   "id": "14a62e0e-2201-488b-a062-d74c5724e42b",
   "metadata": {},
   "outputs": [
    {
     "data": {
      "text/plain": [
       "Label\n",
       "IS    8131\n",
       "ES    3093\n",
       "iS       1\n",
       "b        1\n",
       "Name: count, dtype: int64"
      ]
     },
     "execution_count": 2,
     "metadata": {},
     "output_type": "execute_result"
    }
   ],
   "source": [
    "df[\"Label\"].value_counts()"
   ]
  },
  {
   "cell_type": "code",
   "execution_count": 3,
   "id": "d1cd72e1-b7fd-416e-837a-e155ce02409b",
   "metadata": {},
   "outputs": [],
   "source": [
    "tmpd={\"IS\":0,\"ES\":1}"
   ]
  },
  {
   "cell_type": "code",
   "execution_count": 4,
   "id": "2d4a7900-d291-4f9a-af31-6b40a482eb51",
   "metadata": {},
   "outputs": [],
   "source": [
    "df[\"label\"]=df[\"Label\"].map(tmpd)"
   ]
  },
  {
   "cell_type": "code",
   "execution_count": 5,
   "id": "90850fd3-8ca2-4a55-b312-f7f4d5ca8007",
   "metadata": {},
   "outputs": [],
   "source": [
    "df=df.dropna(subset=[\"label\"])"
   ]
  },
  {
   "cell_type": "code",
   "execution_count": 6,
   "id": "e1541e68-236a-4620-aeb7-2f4258fd5cf1",
   "metadata": {},
   "outputs": [
    {
     "data": {
      "text/plain": [
       "label\n",
       "0.0    8131\n",
       "1.0    3093\n",
       "Name: count, dtype: int64"
      ]
     },
     "execution_count": 6,
     "metadata": {},
     "output_type": "execute_result"
    }
   ],
   "source": [
    "df[\"label\"].value_counts()"
   ]
  },
  {
   "cell_type": "code",
   "execution_count": 7,
   "id": "fe083b3e-8354-4d0b-8ea9-eb265d6db722",
   "metadata": {},
   "outputs": [],
   "source": [
    "df[\"text\"]=df[\"Text\"]"
   ]
  },
  {
   "cell_type": "code",
   "execution_count": 8,
   "id": "17b3cc8d-284b-4566-9acd-f6dcd881cf51",
   "metadata": {},
   "outputs": [
    {
     "data": {
      "text/html": [
       "<div>\n",
       "<style scoped>\n",
       "    .dataframe tbody tr th:only-of-type {\n",
       "        vertical-align: middle;\n",
       "    }\n",
       "\n",
       "    .dataframe tbody tr th {\n",
       "        vertical-align: top;\n",
       "    }\n",
       "\n",
       "    .dataframe thead th {\n",
       "        text-align: right;\n",
       "    }\n",
       "</style>\n",
       "<table border=\"1\" class=\"dataframe\">\n",
       "  <thead>\n",
       "    <tr style=\"text-align: right;\">\n",
       "      <th></th>\n",
       "      <th>Unnamed: 0</th>\n",
       "      <th>Text</th>\n",
       "      <th>Label</th>\n",
       "      <th>label</th>\n",
       "      <th>text</th>\n",
       "    </tr>\n",
       "  </thead>\n",
       "  <tbody>\n",
       "    <tr>\n",
       "      <th>0</th>\n",
       "      <td>NaN</td>\n",
       "      <td>别担心，这种情况是可以解决的</td>\n",
       "      <td>ES</td>\n",
       "      <td>1.0</td>\n",
       "      <td>别担心，这种情况是可以解决的</td>\n",
       "    </tr>\n",
       "    <tr>\n",
       "      <th>1</th>\n",
       "      <td>NaN</td>\n",
       "      <td>遇到这种事情是很麻烦的，不是三言两语可以解决的，要具体问题具体对待，希望你们和睦相处，开心快乐！</td>\n",
       "      <td>ES</td>\n",
       "      <td>1.0</td>\n",
       "      <td>遇到这种事情是很麻烦的，不是三言两语可以解决的，要具体问题具体对待，希望你们和睦相处，开心快乐！</td>\n",
       "    </tr>\n",
       "    <tr>\n",
       "      <th>2</th>\n",
       "      <td>NaN</td>\n",
       "      <td>我的已经到了，希望大家的也马上到达。</td>\n",
       "      <td>ES</td>\n",
       "      <td>1.0</td>\n",
       "      <td>我的已经到了，希望大家的也马上到达。</td>\n",
       "    </tr>\n",
       "    <tr>\n",
       "      <th>3</th>\n",
       "      <td>NaN</td>\n",
       "      <td>呵呵，人力搜索中——查找！</td>\n",
       "      <td>IS</td>\n",
       "      <td>0.0</td>\n",
       "      <td>呵呵，人力搜索中——查找！</td>\n",
       "    </tr>\n",
       "    <tr>\n",
       "      <th>4</th>\n",
       "      <td>NaN</td>\n",
       "      <td>寻找共同爱好，比如游戏等</td>\n",
       "      <td>IS</td>\n",
       "      <td>0.0</td>\n",
       "      <td>寻找共同爱好，比如游戏等</td>\n",
       "    </tr>\n",
       "    <tr>\n",
       "      <th>...</th>\n",
       "      <td>...</td>\n",
       "      <td>...</td>\n",
       "      <td>...</td>\n",
       "      <td>...</td>\n",
       "      <td>...</td>\n",
       "    </tr>\n",
       "    <tr>\n",
       "      <th>11221</th>\n",
       "      <td>NaN</td>\n",
       "      <td>这个也很好玩耶！</td>\n",
       "      <td>ES</td>\n",
       "      <td>1.0</td>\n",
       "      <td>这个也很好玩耶！</td>\n",
       "    </tr>\n",
       "    <tr>\n",
       "      <th>11222</th>\n",
       "      <td>NaN</td>\n",
       "      <td>太强了</td>\n",
       "      <td>ES</td>\n",
       "      <td>1.0</td>\n",
       "      <td>太强了</td>\n",
       "    </tr>\n",
       "    <tr>\n",
       "      <th>11223</th>\n",
       "      <td>NaN</td>\n",
       "      <td>我非常赞同这位同学的看法</td>\n",
       "      <td>ES</td>\n",
       "      <td>1.0</td>\n",
       "      <td>我非常赞同这位同学的看法</td>\n",
       "    </tr>\n",
       "    <tr>\n",
       "      <th>11224</th>\n",
       "      <td>NaN</td>\n",
       "      <td>我觉得您的想法和思维导图做的不错！</td>\n",
       "      <td>ES</td>\n",
       "      <td>1.0</td>\n",
       "      <td>我觉得您的想法和思维导图做的不错！</td>\n",
       "    </tr>\n",
       "    <tr>\n",
       "      <th>11225</th>\n",
       "      <td>NaN</td>\n",
       "      <td>嗯嗯，我同意你们两个的说法</td>\n",
       "      <td>ES</td>\n",
       "      <td>1.0</td>\n",
       "      <td>嗯嗯，我同意你们两个的说法</td>\n",
       "    </tr>\n",
       "  </tbody>\n",
       "</table>\n",
       "<p>11224 rows × 5 columns</p>\n",
       "</div>"
      ],
      "text/plain": [
       "       Unnamed: 0                                              Text Label   \n",
       "0             NaN                                    别担心，这种情况是可以解决的    ES  \\\n",
       "1             NaN  遇到这种事情是很麻烦的，不是三言两语可以解决的，要具体问题具体对待，希望你们和睦相处，开心快乐！    ES   \n",
       "2             NaN                                我的已经到了，希望大家的也马上到达。    ES   \n",
       "3             NaN                                     呵呵，人力搜索中——查找！    IS   \n",
       "4             NaN                                      寻找共同爱好，比如游戏等    IS   \n",
       "...           ...                                               ...   ...   \n",
       "11221         NaN                                          这个也很好玩耶！    ES   \n",
       "11222         NaN                                               太强了    ES   \n",
       "11223         NaN                                      我非常赞同这位同学的看法    ES   \n",
       "11224         NaN                                 我觉得您的想法和思维导图做的不错！    ES   \n",
       "11225         NaN                                     嗯嗯，我同意你们两个的说法    ES   \n",
       "\n",
       "       label                                              text  \n",
       "0        1.0                                    别担心，这种情况是可以解决的  \n",
       "1        1.0  遇到这种事情是很麻烦的，不是三言两语可以解决的，要具体问题具体对待，希望你们和睦相处，开心快乐！  \n",
       "2        1.0                                我的已经到了，希望大家的也马上到达。  \n",
       "3        0.0                                     呵呵，人力搜索中——查找！  \n",
       "4        0.0                                      寻找共同爱好，比如游戏等  \n",
       "...      ...                                               ...  \n",
       "11221    1.0                                          这个也很好玩耶！  \n",
       "11222    1.0                                               太强了  \n",
       "11223    1.0                                      我非常赞同这位同学的看法  \n",
       "11224    1.0                                 我觉得您的想法和思维导图做的不错！  \n",
       "11225    1.0                                     嗯嗯，我同意你们两个的说法  \n",
       "\n",
       "[11224 rows x 5 columns]"
      ]
     },
     "execution_count": 8,
     "metadata": {},
     "output_type": "execute_result"
    }
   ],
   "source": [
    "df"
   ]
  },
  {
   "cell_type": "markdown",
   "id": "c1e92532-892c-498b-833b-39e4b36daa70",
   "metadata": {},
   "source": [
    "#### 去除停用词"
   ]
  },
  {
   "cell_type": "code",
   "execution_count": 9,
   "id": "5590d17e-c9df-4213-93ab-a4968d7099c7",
   "metadata": {},
   "outputs": [
    {
     "name": "stderr",
     "output_type": "stream",
     "text": [
      "Building prefix dict from the default dictionary ...\n",
      "Loading model from cache C:\\Users\\jhg\\AppData\\Local\\Temp\\jieba.cache\n",
      "Loading model cost 1.086 seconds.\n",
      "Prefix dict has been built succesfully.\n"
     ]
    }
   ],
   "source": [
    "import re\n",
    "import jieba_fast as jieba\n",
    "ting=[i.strip() for i in open(\"stop_words_ch-停用词表.txt\",encoding='gbk').readlines()]\n",
    "def fenci(text):\n",
    "    return [i for i in jieba.cut(str(text)) if i not in ting] \n",
    "\n",
    "df[\"text\"]=df[\"text\"].apply(lambda x:fenci(x))"
   ]
  },
  {
   "cell_type": "code",
   "execution_count": 10,
   "id": "e711cb25-1af6-42fc-b7f0-74ff360138a1",
   "metadata": {},
   "outputs": [],
   "source": [
    "df[\"text\"]=df[\"text\"].apply(lambda x:\" \".join(x))"
   ]
  },
  {
   "cell_type": "markdown",
   "id": "b5fbc9f0-8a15-4cd5-9e75-193fd134752b",
   "metadata": {},
   "source": [
    "### tfidf"
   ]
  },
  {
   "cell_type": "code",
   "execution_count": 11,
   "id": "302457be-45b0-4753-a096-b427a05a99aa",
   "metadata": {},
   "outputs": [
    {
     "name": "stderr",
     "output_type": "stream",
     "text": [
      "D:\\anaconda\\root\\lib\\site-packages\\scipy\\__init__.py:146: UserWarning: A NumPy version >=1.16.5 and <1.23.0 is required for this version of SciPy (detected version 1.26.4\n",
      "  warnings.warn(f\"A NumPy version >={np_minversion} and <{np_maxversion}\"\n"
     ]
    }
   ],
   "source": [
    "from sklearn.feature_extraction.text import TfidfVectorizer\n",
    "vectorizer = TfidfVectorizer()  \n",
    "vectors=vectorizer.fit_transform(df[\"text\"])#训练数据集并且得到tfidf分数"
   ]
  },
  {
   "cell_type": "code",
   "execution_count": 12,
   "id": "9a0a3c32-2ca0-4f00-912e-afb5eb7b0298",
   "metadata": {},
   "outputs": [],
   "source": [
    "from sklearn.feature_selection import SelectKBest,f_classif \n",
    "selector=SelectKBest(score_func=f_classif,k=5000)#假设性检验  得到和标签最相关的2000个类别\n",
    "selector.fit(vectors,df[\"label\"])\n",
    "traindata=selector.transform(vectors).todense()"
   ]
  },
  {
   "cell_type": "markdown",
   "id": "a3cfd4e5-fd19-40b9-9dfd-aa13cb73d230",
   "metadata": {},
   "source": [
    "### 交叉验证"
   ]
  },
  {
   "cell_type": "code",
   "execution_count": 13,
   "id": "4194c6d7-7beb-40e8-b625-62dc97d7b4eb",
   "metadata": {},
   "outputs": [],
   "source": [
    "from sklearn.model_selection import KFold\n",
    "from sklearn.metrics import classification_report\n",
    "from sklearn.model_selection import cross_val_predict\n",
    "from sklearn.ensemble import RandomForestClassifier\n",
    "kf = KFold(n_splits=5, shuffle=True, random_state=42)\n",
    "rm=RandomForestClassifier()\n",
    "X=traindata\n",
    "y=df[\"label\"].values\n",
    "d={\"IS\":0,\"ES\":1}\n",
    "reports=[]\n",
    "true_labels_all = []\n",
    "predicted_labels_all = []"
   ]
  },
  {
   "cell_type": "markdown",
   "id": "f7b0f3f8-ea6d-48a8-8c1c-f0a546a3eed3",
   "metadata": {},
   "source": [
    "### 每一折的交叉验证报告 手动平均即为交叉验证的平均结果"
   ]
  },
  {
   "cell_type": "code",
   "execution_count": 21,
   "id": "73b59f8a-d18f-4e60-b274-ba7e6a58cf34",
   "metadata": {},
   "outputs": [
    {
     "name": "stderr",
     "output_type": "stream",
     "text": [
      "D:\\anaconda\\root\\lib\\site-packages\\sklearn\\utils\\validation.py:593: FutureWarning: np.matrix usage is deprecated in 1.0 and will raise a TypeError in 1.2. Please convert to a numpy array with np.asarray. For more information see: https://numpy.org/doc/stable/reference/generated/numpy.matrix.html\n",
      "  warnings.warn(\n",
      "D:\\anaconda\\root\\lib\\site-packages\\sklearn\\utils\\validation.py:593: FutureWarning: np.matrix usage is deprecated in 1.0 and will raise a TypeError in 1.2. Please convert to a numpy array with np.asarray. For more information see: https://numpy.org/doc/stable/reference/generated/numpy.matrix.html\n",
      "  warnings.warn(\n"
     ]
    },
    {
     "name": "stdout",
     "output_type": "stream",
     "text": [
      "Classification report for fold:\n",
      "              precision    recall  f1-score   support\n",
      "\n",
      "          IS     0.9063    0.9283    0.9172      1646\n",
      "          ES     0.7889    0.7362    0.7617       599\n",
      "\n",
      "    accuracy                         0.8771      2245\n",
      "   macro avg     0.8476    0.8323    0.8394      2245\n",
      "weighted avg     0.8750    0.8771    0.8757      2245\n",
      "\n",
      "\n"
     ]
    },
    {
     "name": "stderr",
     "output_type": "stream",
     "text": [
      "D:\\anaconda\\root\\lib\\site-packages\\sklearn\\utils\\validation.py:593: FutureWarning: np.matrix usage is deprecated in 1.0 and will raise a TypeError in 1.2. Please convert to a numpy array with np.asarray. For more information see: https://numpy.org/doc/stable/reference/generated/numpy.matrix.html\n",
      "  warnings.warn(\n",
      "D:\\anaconda\\root\\lib\\site-packages\\sklearn\\utils\\validation.py:593: FutureWarning: np.matrix usage is deprecated in 1.0 and will raise a TypeError in 1.2. Please convert to a numpy array with np.asarray. For more information see: https://numpy.org/doc/stable/reference/generated/numpy.matrix.html\n",
      "  warnings.warn(\n"
     ]
    },
    {
     "name": "stdout",
     "output_type": "stream",
     "text": [
      "Classification report for fold:\n",
      "              precision    recall  f1-score   support\n",
      "\n",
      "          IS     0.9019    0.9170    0.9094      1614\n",
      "          ES     0.7781    0.7448    0.7611       631\n",
      "\n",
      "    accuracy                         0.8686      2245\n",
      "   macro avg     0.8400    0.8309    0.8353      2245\n",
      "weighted avg     0.8671    0.8686    0.8677      2245\n",
      "\n",
      "\n"
     ]
    },
    {
     "name": "stderr",
     "output_type": "stream",
     "text": [
      "D:\\anaconda\\root\\lib\\site-packages\\sklearn\\utils\\validation.py:593: FutureWarning: np.matrix usage is deprecated in 1.0 and will raise a TypeError in 1.2. Please convert to a numpy array with np.asarray. For more information see: https://numpy.org/doc/stable/reference/generated/numpy.matrix.html\n",
      "  warnings.warn(\n",
      "D:\\anaconda\\root\\lib\\site-packages\\sklearn\\utils\\validation.py:593: FutureWarning: np.matrix usage is deprecated in 1.0 and will raise a TypeError in 1.2. Please convert to a numpy array with np.asarray. For more information see: https://numpy.org/doc/stable/reference/generated/numpy.matrix.html\n",
      "  warnings.warn(\n"
     ]
    },
    {
     "name": "stdout",
     "output_type": "stream",
     "text": [
      "Classification report for fold:\n",
      "              precision    recall  f1-score   support\n",
      "\n",
      "          IS     0.9104    0.9298    0.9200      1639\n",
      "          ES     0.7986    0.7525    0.7749       606\n",
      "\n",
      "    accuracy                         0.8820      2245\n",
      "   macro avg     0.8545    0.8412    0.8474      2245\n",
      "weighted avg     0.8802    0.8820    0.8808      2245\n",
      "\n",
      "\n"
     ]
    },
    {
     "name": "stderr",
     "output_type": "stream",
     "text": [
      "D:\\anaconda\\root\\lib\\site-packages\\sklearn\\utils\\validation.py:593: FutureWarning: np.matrix usage is deprecated in 1.0 and will raise a TypeError in 1.2. Please convert to a numpy array with np.asarray. For more information see: https://numpy.org/doc/stable/reference/generated/numpy.matrix.html\n",
      "  warnings.warn(\n",
      "D:\\anaconda\\root\\lib\\site-packages\\sklearn\\utils\\validation.py:593: FutureWarning: np.matrix usage is deprecated in 1.0 and will raise a TypeError in 1.2. Please convert to a numpy array with np.asarray. For more information see: https://numpy.org/doc/stable/reference/generated/numpy.matrix.html\n",
      "  warnings.warn(\n"
     ]
    },
    {
     "name": "stdout",
     "output_type": "stream",
     "text": [
      "Classification report for fold:\n",
      "              precision    recall  f1-score   support\n",
      "\n",
      "          IS     0.8975    0.9289    0.9129      1631\n",
      "          ES     0.7917    0.7182    0.7532       614\n",
      "\n",
      "    accuracy                         0.8713      2245\n",
      "   macro avg     0.8446    0.8236    0.8331      2245\n",
      "weighted avg     0.8686    0.8713    0.8692      2245\n",
      "\n",
      "\n"
     ]
    },
    {
     "name": "stderr",
     "output_type": "stream",
     "text": [
      "D:\\anaconda\\root\\lib\\site-packages\\sklearn\\utils\\validation.py:593: FutureWarning: np.matrix usage is deprecated in 1.0 and will raise a TypeError in 1.2. Please convert to a numpy array with np.asarray. For more information see: https://numpy.org/doc/stable/reference/generated/numpy.matrix.html\n",
      "  warnings.warn(\n",
      "D:\\anaconda\\root\\lib\\site-packages\\sklearn\\utils\\validation.py:593: FutureWarning: np.matrix usage is deprecated in 1.0 and will raise a TypeError in 1.2. Please convert to a numpy array with np.asarray. For more information see: https://numpy.org/doc/stable/reference/generated/numpy.matrix.html\n",
      "  warnings.warn(\n"
     ]
    },
    {
     "name": "stdout",
     "output_type": "stream",
     "text": [
      "Classification report for fold:\n",
      "              precision    recall  f1-score   support\n",
      "\n",
      "          IS     0.8946    0.9169    0.9056      1601\n",
      "          ES     0.7794    0.7309    0.7544       643\n",
      "\n",
      "    accuracy                         0.8636      2244\n",
      "   macro avg     0.8370    0.8239    0.8300      2244\n",
      "weighted avg     0.8616    0.8636    0.8623      2244\n",
      "\n",
      "\n",
      "              precision    recall  f1-score   support\n",
      "\n",
      "          IS     0.9063    0.9283    0.9172      1646\n",
      "          ES     0.7889    0.7362    0.7617       599\n",
      "\n",
      "    accuracy                         0.8771      2245\n",
      "   macro avg     0.8476    0.8323    0.8394      2245\n",
      "weighted avg     0.8750    0.8771    0.8757      2245\n",
      "\n",
      "              precision    recall  f1-score   support\n",
      "\n",
      "          IS     0.9019    0.9170    0.9094      1614\n",
      "          ES     0.7781    0.7448    0.7611       631\n",
      "\n",
      "    accuracy                         0.8686      2245\n",
      "   macro avg     0.8400    0.8309    0.8353      2245\n",
      "weighted avg     0.8671    0.8686    0.8677      2245\n",
      "\n",
      "              precision    recall  f1-score   support\n",
      "\n",
      "          IS     0.9104    0.9298    0.9200      1639\n",
      "          ES     0.7986    0.7525    0.7749       606\n",
      "\n",
      "    accuracy                         0.8820      2245\n",
      "   macro avg     0.8545    0.8412    0.8474      2245\n",
      "weighted avg     0.8802    0.8820    0.8808      2245\n",
      "\n",
      "              precision    recall  f1-score   support\n",
      "\n",
      "          IS     0.8975    0.9289    0.9129      1631\n",
      "          ES     0.7917    0.7182    0.7532       614\n",
      "\n",
      "    accuracy                         0.8713      2245\n",
      "   macro avg     0.8446    0.8236    0.8331      2245\n",
      "weighted avg     0.8686    0.8713    0.8692      2245\n",
      "\n",
      "              precision    recall  f1-score   support\n",
      "\n",
      "          IS     0.8946    0.9169    0.9056      1601\n",
      "          ES     0.7794    0.7309    0.7544       643\n",
      "\n",
      "    accuracy                         0.8636      2244\n",
      "   macro avg     0.8370    0.8239    0.8300      2244\n",
      "weighted avg     0.8616    0.8636    0.8623      2244\n",
      "\n"
     ]
    }
   ],
   "source": [
    "for train_index, test_index in kf.split(X,y):\n",
    "\n",
    "    # 划分训练集和测试集\n",
    "    X_train, X_test = X[train_index], X[test_index]\n",
    "    y_train, y_test = y[train_index], y[test_index]\n",
    "    \n",
    "    # 训练模型\n",
    "    rm.fit(X_train, y_train)\n",
    "    \n",
    "    # 进行预测\n",
    "    y_pred_test = rm.predict(X_test)\n",
    "    \n",
    "    # 生成分类报告\n",
    "    report = classification_report(y_test, y_pred_test,digits=4,target_names=list(d.keys()))\n",
    "    reports.append(report)\n",
    "    print(f\"Classification report for fold:\\n{report}\\n\")\n",
    "    true_labels_all.extend(y_test)\n",
    "    predicted_labels_all.extend(y_pred_test)"
   ]
  },
  {
   "cell_type": "code",
   "execution_count": null,
   "id": "1faebbc8-126b-4fa8-8170-8badaae91d2b",
   "metadata": {},
   "outputs": [],
   "source": [
    "true_labels_all = np.array(true_labels_all)\n",
    "predicted_labels_all = np.array(predicted_labels_all)\n",
    "\n",
    "# 创建一个DataFrame\n",
    "results_df = pd.DataFrame({\n",
    "    'True_Label': true_labels_all,\n",
    "    'Predicted_Label': predicted_labels_all\n",
    "})\n",
    "\n",
    "# 将DataFrame保存为CSV文件\n",
    "results_df.to_csv('rm_cross_validation.csv', index=False)"
   ]
  },
  {
   "cell_type": "markdown",
   "id": "4afb4d69-f6da-440a-9d4c-4764ed2a3653",
   "metadata": {},
   "source": [
    "### 获得交叉验证的平均结果(更常用)"
   ]
  },
  {
   "cell_type": "code",
   "execution_count": 23,
   "id": "c3d7cb9e-6073-44f3-bd65-b3490ec61625",
   "metadata": {},
   "outputs": [
    {
     "name": "stderr",
     "output_type": "stream",
     "text": [
      "D:\\anaconda\\root\\lib\\site-packages\\sklearn\\utils\\validation.py:593: FutureWarning: np.matrix usage is deprecated in 1.0 and will raise a TypeError in 1.2. Please convert to a numpy array with np.asarray. For more information see: https://numpy.org/doc/stable/reference/generated/numpy.matrix.html\n",
      "  warnings.warn(\n",
      "D:\\anaconda\\root\\lib\\site-packages\\sklearn\\utils\\validation.py:593: FutureWarning: np.matrix usage is deprecated in 1.0 and will raise a TypeError in 1.2. Please convert to a numpy array with np.asarray. For more information see: https://numpy.org/doc/stable/reference/generated/numpy.matrix.html\n",
      "  warnings.warn(\n",
      "D:\\anaconda\\root\\lib\\site-packages\\sklearn\\utils\\validation.py:593: FutureWarning: np.matrix usage is deprecated in 1.0 and will raise a TypeError in 1.2. Please convert to a numpy array with np.asarray. For more information see: https://numpy.org/doc/stable/reference/generated/numpy.matrix.html\n",
      "  warnings.warn(\n",
      "D:\\anaconda\\root\\lib\\site-packages\\sklearn\\utils\\validation.py:593: FutureWarning: np.matrix usage is deprecated in 1.0 and will raise a TypeError in 1.2. Please convert to a numpy array with np.asarray. For more information see: https://numpy.org/doc/stable/reference/generated/numpy.matrix.html\n",
      "  warnings.warn(\n",
      "D:\\anaconda\\root\\lib\\site-packages\\sklearn\\utils\\validation.py:593: FutureWarning: np.matrix usage is deprecated in 1.0 and will raise a TypeError in 1.2. Please convert to a numpy array with np.asarray. For more information see: https://numpy.org/doc/stable/reference/generated/numpy.matrix.html\n",
      "  warnings.warn(\n",
      "D:\\anaconda\\root\\lib\\site-packages\\sklearn\\utils\\validation.py:593: FutureWarning: np.matrix usage is deprecated in 1.0 and will raise a TypeError in 1.2. Please convert to a numpy array with np.asarray. For more information see: https://numpy.org/doc/stable/reference/generated/numpy.matrix.html\n",
      "  warnings.warn(\n",
      "D:\\anaconda\\root\\lib\\site-packages\\sklearn\\utils\\validation.py:593: FutureWarning: np.matrix usage is deprecated in 1.0 and will raise a TypeError in 1.2. Please convert to a numpy array with np.asarray. For more information see: https://numpy.org/doc/stable/reference/generated/numpy.matrix.html\n",
      "  warnings.warn(\n",
      "D:\\anaconda\\root\\lib\\site-packages\\sklearn\\utils\\validation.py:593: FutureWarning: np.matrix usage is deprecated in 1.0 and will raise a TypeError in 1.2. Please convert to a numpy array with np.asarray. For more information see: https://numpy.org/doc/stable/reference/generated/numpy.matrix.html\n",
      "  warnings.warn(\n",
      "D:\\anaconda\\root\\lib\\site-packages\\sklearn\\utils\\validation.py:593: FutureWarning: np.matrix usage is deprecated in 1.0 and will raise a TypeError in 1.2. Please convert to a numpy array with np.asarray. For more information see: https://numpy.org/doc/stable/reference/generated/numpy.matrix.html\n",
      "  warnings.warn(\n",
      "D:\\anaconda\\root\\lib\\site-packages\\sklearn\\utils\\validation.py:593: FutureWarning: np.matrix usage is deprecated in 1.0 and will raise a TypeError in 1.2. Please convert to a numpy array with np.asarray. For more information see: https://numpy.org/doc/stable/reference/generated/numpy.matrix.html\n",
      "  warnings.warn(\n"
     ]
    },
    {
     "name": "stdout",
     "output_type": "stream",
     "text": [
      "              precision    recall  f1-score   support\n",
      "\n",
      "         0.0       0.90      0.92      0.91      8131\n",
      "         1.0       0.79      0.74      0.76      3093\n",
      "\n",
      "    accuracy                           0.87     11224\n",
      "   macro avg       0.84      0.83      0.84     11224\n",
      "weighted avg       0.87      0.87      0.87     11224\n",
      "\n"
     ]
    }
   ],
   "source": [
    "y_pred = cross_val_predict(rm, X, y, cv=kf)\n",
    "# 生成总体的分类报告\n",
    "print(classification_report(y, y_pred,digits=4,target_names=list(d.keys())))"
   ]
  }
 ],
 "metadata": {
  "kernelspec": {
   "display_name": "Python 3 (ipykernel)",
   "language": "python",
   "name": "python3"
  },
  "language_info": {
   "codemirror_mode": {
    "name": "ipython",
    "version": 3
   },
   "file_extension": ".py",
   "mimetype": "text/x-python",
   "name": "python",
   "nbconvert_exporter": "python",
   "pygments_lexer": "ipython3",
   "version": "3.9.12"
  }
 },
 "nbformat": 4,
 "nbformat_minor": 5
}
